{
 "cells": [
  {
   "cell_type": "code",
   "execution_count": 18,
   "metadata": {
    "pycharm": {
     "name": "#%%\n"
    }
   },
   "outputs": [],
   "source": [
    "import os\n",
    "\n",
    "# List all files in a directory using scandir()\n",
    "basepath = './result'\n",
    "with os.scandir(basepath) as entries:\n",
    "    for entry in entries:\n",
    "        with open(basepath + '/' + entry.name, 'r+',  encoding = \"ISO-8859-1\") as f:\n",
    "            read_data = f.readlines()\n",
    "            new_data = []\n",
    "\n",
    "            for line in read_data:\n",
    "                new_data.append(line.replace(\"\\x01\", \"\\t\"))\n",
    "            \n",
    "            f.truncate(0)\n",
    "            f.writelines(new_data)"
   ]
  }
 ],
 "metadata": {
  "kernelspec": {
   "display_name": "Python 3",
   "language": "python",
   "name": "python3"
  },
  "language_info": {
   "codemirror_mode": {
    "name": "ipython",
    "version": 3
   },
   "file_extension": ".py",
   "mimetype": "text/x-python",
   "name": "python",
   "nbconvert_exporter": "python",
   "pygments_lexer": "ipython3",
   "version": "3.7.4"
  }
 },
 "nbformat": 4,
 "nbformat_minor": 2
}